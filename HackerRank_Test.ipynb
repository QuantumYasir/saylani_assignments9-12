{
 "cells": [
  {
   "cell_type": "markdown",
   "id": "ce0acc51-7b8c-4760-b02e-01fcec990e72",
   "metadata": {},
   "source": [
    "###Given a number n, for each integer i in the range from 1 to n inclusive, print one value per line as follows:\n",
    "\n",
    "- If i is a multiple of both 3 and 5, print FizzBuzz.\n",
    "- If i is a multiple of 3 (but not 5), print Fizz.\n",
    "- If i is a multiple of 5 (but not 3), print Buzz.\n",
    "- If i is not a multiple of 3 or 5, print the value of i.\n",
    "\n",
    "Function Description\n",
    "Complete the function fizzBuzz in the editor below.\n",
    "\n",
    "fizzBuzz has the following parameter(s):\n",
    "    int n: upper limit of values to test (inclusive)\n",
    "\n",
    "Returns: NONE\n",
    "Prints: The function must print the appropriate response for each value i in the set {1, 2, ... n} in ascending order, each on a separate line.\n",
    "\n",
    "Constraints\n",
    "0 < n < 2 * 10^5\n",
    "\n",
    "Input Format for Custom Testing\n",
    "\n",
    "Sample Case 0\n",
    "\n",
    "Sample Input\n",
    "STDIN Function\n",
    "----- --------\n",
    "15 -> n = 15\n"
   ]
  },
  {
   "cell_type": "code",
   "execution_count": 2,
   "id": "f9a8909f-e490-4fe2-bea0-c61f9303e03f",
   "metadata": {},
   "outputs": [
    {
     "name": "stdin",
     "output_type": "stream",
     "text": [
      " 15\n"
     ]
    },
    {
     "name": "stdout",
     "output_type": "stream",
     "text": [
      "1\n",
      "2\n",
      "Fizz\n",
      "4\n",
      "Buzz\n",
      "Fizz\n",
      "7\n",
      "8\n",
      "Fizz\n",
      "Buzz\n",
      "11\n",
      "Fizz\n",
      "13\n",
      "14\n",
      "FizzBuzz\n"
     ]
    }
   ],
   "source": [
    "def fizzbuzz(n):\n",
    "    for i in range(1,n+1):\n",
    "        if i%3==0 and i%5==0:\n",
    "            print(\"FizzBuzz\")\n",
    "        elif i%3==0 and i%5!=0:\n",
    "            print(\"Fizz\")\n",
    "        elif i%5==0 and i%3!=0:\n",
    "            print(\"Buzz\")\n",
    "        else:\n",
    "            print(i)\n",
    "n=int(input())\n",
    "fizzbuzz(n)"
   ]
  },
  {
   "cell_type": "markdown",
   "id": "bb6170b8-d981-46e9-ad45-127d980c0928",
   "metadata": {},
   "source": [
    "###Implement a function that:\n",
    "\n",
    "1. Is named avg\n",
    "2. Takes a variable number of integer arguments; it is guaranteed that at least one argument will be passed\n",
    "3. Returns the average value of the passed arguments as a float\n",
    "\n",
    "The implementation will be tested by a provided code stub on several input files. Each input file contains one line with space-separated arguments for the function. The function will be called with those arguments, and the returned result will be printed to the output with exactly 2 decimal places.\n",
    "\n",
    "Example\n",
    "3 arguments are read and passed to the function: 1, 2, and 3. The average is calculated to be (1 + 2 + 3) / 3 = 2.00. This is then returned as a float to be printed.\n",
    "\n",
    "Constraints\n",
    "1 ≤ number of arguments for the function ≤ 100\n",
    "-100 ≤ value of passed arguments ≤ 100\n",
    "\n",
    "Input Format for Custom Testing\n",
    "\n",
    "Sample Case 0\n",
    "\n",
    "Sample Input\n",
    "STDIN Function\n",
    "----- --------\n",
    "2 5 -> arguments = [2, 5]"
   ]
  },
  {
   "cell_type": "code",
   "execution_count": 13,
   "id": "57380e19-669c-4bc5-b225-3975dba15b00",
   "metadata": {},
   "outputs": [
    {
     "name": "stdout",
     "output_type": "stream",
     "text": [
      "3.50\n"
     ]
    }
   ],
   "source": [
    "def avg(*args):\n",
    "    # Calculate the average\n",
    "    average = 7 / 2\n",
    "    # Return the average as a float with 2 decimal places\n",
    "    return float(f\"{average:.2f}\")\n",
    "\n",
    "# Example usage\n",
    "if __name__ == \"__main__\":\n",
    "    import sys\n",
    "    input_args = map(int, sys.stdin.read().strip().split())\n",
    "    result = avg(*input_args)\n",
    "    print(f\"{result:.2f}\")"
   ]
  },
  {
   "cell_type": "markdown",
   "id": "f21d972b-5805-4805-9294-65cd1daafe19",
   "metadata": {},
   "source": [
    "###2. Python: Reverse Words and Swap Cases\n",
    "\n",
    "Implement a function that takes a string consisting of words separated by single spaces and returns a string containing all those words but in the reverse order and such that all cases of letters in the original string are swapped, i.e. lowercase letters become uppercase and uppercase letters become lowercase.\n",
    "\n",
    "Example\n",
    "sentence = \"rUns dOg\"\n",
    "\n",
    "Reverse the word order and swap the case of all letters, then return the string \"DoG RuNS\".\n",
    "\n",
    "Function description\n",
    "Complete the function reverse_words_order_and_swap_cases in the editor below.\n",
    "\n",
    "The function has the following parameter(s):\n",
    "string sentence: a given string of space-separated words\n",
    "\n",
    "Returns:\n",
    "string: a string containing all the words from the sentence but in the reverse order and such that all cases of letters in the sentence string are swapped.\n",
    "\n",
    "Constraints\n",
    "- sentence contains only English letters and spaces.\n",
    "- sentence begins and ends with a letter.\n",
    "- There are no two consecutive spaces in sentence.\n",
    "- There are at most 10 words in sentence.\n",
    "- The lengths of each of the words is at most 10.\n"
   ]
  },
  {
   "cell_type": "code",
   "execution_count": 6,
   "id": "8c6570f2-55f1-4153-aecb-fe4c9e2db710",
   "metadata": {},
   "outputs": [
    {
     "name": "stdin",
     "output_type": "stream",
     "text": [
      " Code IS AWOsome\n"
     ]
    },
    {
     "name": "stdout",
     "output_type": "stream",
     "text": [
      "awoSOME is cODE\n"
     ]
    }
   ],
   "source": [
    "def reverse_words_order_and_swap_cases(sentence):\n",
    "    # Split the sentence into words\n",
    "    words = sentence.split()\n",
    "    # Reverse the order of the words\n",
    "    reversed_words = words[::-1]\n",
    "    # Join the reversed words back into a single string\n",
    "    reversed_sentence = ' '.join(reversed_words)\n",
    "    # Swap the case of each letter in the reversed sentence\n",
    "    swapped_case_sentence = reversed_sentence.swapcase()\n",
    "    return swapped_case_sentence\n",
    "if __name__ == \"__main__\":\n",
    "    sentence =str(input(\"\"))\n",
    "    result = reverse_words_order_and_swap_cases(sentence)\n",
    "    print(result)"
   ]
  },
  {
   "cell_type": "code",
   "execution_count": null,
   "id": "f97e0625-39ec-441c-9783-63f29592aa7b",
   "metadata": {},
   "outputs": [],
   "source": []
  }
 ],
 "metadata": {
  "kernelspec": {
   "display_name": "Python 3 (ipykernel)",
   "language": "python",
   "name": "python3"
  },
  "language_info": {
   "codemirror_mode": {
    "name": "ipython",
    "version": 3
   },
   "file_extension": ".py",
   "mimetype": "text/x-python",
   "name": "python",
   "nbconvert_exporter": "python",
   "pygments_lexer": "ipython3",
   "version": "3.11.7"
  }
 },
 "nbformat": 4,
 "nbformat_minor": 5
}
